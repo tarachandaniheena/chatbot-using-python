{
  "nbformat": 4,
  "nbformat_minor": 0,
  "metadata": {
    "colab": {
      "provenance": [],
      "authorship_tag": "ABX9TyN0pZiOoccovycg22IIKLIv",
      "include_colab_link": true
    },
    "kernelspec": {
      "name": "python3",
      "display_name": "Python 3"
    },
    "language_info": {
      "name": "python"
    }
  },
  "cells": [
    {
      "cell_type": "markdown",
      "metadata": {
        "id": "view-in-github",
        "colab_type": "text"
      },
      "source": [
        "<a href=\"https://colab.research.google.com/github/tarachandaniheena/chatbot-using-python/blob/main/Rule_Based_Bot.ipynb\" target=\"_parent\"><img src=\"https://colab.research.google.com/assets/colab-badge.svg\" alt=\"Open In Colab\"/></a>"
      ]
    },
    {
      "cell_type": "code",
      "execution_count": null,
      "metadata": {
        "id": "ICd7dhcysCci"
      },
      "outputs": [],
      "source": [
        "import re #string function\n",
        "import random #randomly select number\n"
      ]
    },
    {
      "cell_type": "code",
      "source": [
        "class RuleBot:\n",
        "  ### Potential negative responses\n",
        "  negative_responses = (\"no\", \"nope\", \"nah\", \"naw\", \"not a chance\", \"sorry\")\n",
        "  ### Exit conversation keywords\n",
        "  exit_commands = (\"quit\", \"pause\",\"bye\")\n",
        "  #Random starter question\n",
        "  random_questions = (\n",
        "      \"Why are you here?\",\n",
        "      \"Does earth have a leader?\"\n",
        "  )\n",
        "\n",
        "  def __init__(self):\n",
        "    self.alienbabble = {'describe_planet_intent' : r'.\"\\s\"your planet\"',\n",
        "                        'answer_why_intent' : r'\"why\\sare.*\"',\n",
        "                        'about_intellipaat': 'intellipaat'}\n",
        "\n",
        "  def greet(self):\n",
        "    self.name = input(\"whats your name?\\n\")\n",
        "    will_help = input(\n",
        "        f\"Hi {self.name}, i am rule bot. Will you help me understand more about your planet?\\n\")\n",
        "    if will_help in self.negative_responses:\n",
        "      print(\"ok have a good day\")\n",
        "      return\n",
        "    self.chat()\n",
        "\n",
        "\n",
        "  def make_exit(self, reply):\n",
        "    for command in self.exit_commands:\n",
        "      if reply == command:\n",
        "        print(\"ok have a good day\")\n",
        "        return\n",
        "\n",
        "\n",
        "  def chat(self):\n",
        "    reply = input(random.choice(self.random_questions)).lower()\n",
        "    while not self.make_exit(reply):\n",
        "      reply = input(self.match_reply(reply))\n",
        "\n",
        "\n",
        "  def match_reply(self, reply):\n",
        "    for key, value in self.alienbabble.items():\n",
        "      intent = key\n",
        "      regex_pattern = value\n",
        "      found_match = re.match(regex_pattern, reply)\n",
        "\n",
        "      if found_match and intent == 'describe_planet_intent':\n",
        "        return self.describe_planet_intent()\n",
        "      elif found_match and intent == 'about_intellipaat':\n",
        "        return self.about_intellipaat()\n",
        "      elif not found_match:\n",
        "        return self.no_match_intent()\n",
        "\n",
        "  def describe_planet_intent(self):\n",
        "    responses = (\"my planet is utopia\\n\", \"I am from pidipus\")\n",
        "    return random.choice(responses)\n",
        "\n",
        "  def about_intellipaat(self):\n",
        "    responses = (\"Professional network\\n\", \"Python projects\")\n",
        "    return random.choice(responses)\n",
        "\n",
        "  def no_match_intent(self):\n",
        "    responses = (\"can you select from the choices\\n\", \"Tell me more\")\n",
        "    return random.choice(responses)\n",
        "\n",
        "AlienBot = RuleBot()\n",
        "AlienBot.greet()"
      ],
      "metadata": {
        "colab": {
          "base_uri": "https://localhost:8080/"
        },
        "id": "zQ2jIrw9sRdd",
        "outputId": "e47266f1-6b71-4b6c-ff7c-af4484113199"
      },
      "execution_count": null,
      "outputs": [
        {
          "output_type": "stream",
          "name": "stdout",
          "text": [
            "whats your name?\n",
            "heena\n",
            "Hi heena, i am rule bot. Will you help me understand more about your planet?\n",
            "no\n",
            "ok have a good day\n"
          ]
        }
      ]
    }
  ]
}